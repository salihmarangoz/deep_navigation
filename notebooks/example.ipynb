{
 "cells": [
  {
   "cell_type": "code",
   "execution_count": 1,
   "metadata": {
    "ExecuteTime": {
     "end_time": "2020-05-25T01:23:43.138763Z",
     "start_time": "2020-05-25T01:23:43.135227Z"
    }
   },
   "outputs": [
    {
     "name": "stderr",
     "output_type": "stream",
     "text": [
      "2024-03-15 00:52:40.041873: I tensorflow/tsl/cuda/cudart_stub.cc:28] Could not find cuda drivers on your machine, GPU will not be used.\n",
      "2024-03-15 00:52:40.088605: I tensorflow/tsl/cuda/cudart_stub.cc:28] Could not find cuda drivers on your machine, GPU will not be used.\n",
      "2024-03-15 00:52:40.089544: I tensorflow/core/platform/cpu_feature_guard.cc:182] This TensorFlow binary is optimized to use available CPU instructions in performance-critical operations.\n",
      "To enable the following instructions: AVX2 FMA, in other operations, rebuild TensorFlow with the appropriate compiler flags.\n",
      "2024-03-15 00:52:41.091783: W tensorflow/compiler/tf2tensorrt/utils/py_utils.cc:38] TF-TRT Warning: Could not find TensorRT\n"
     ]
    }
   ],
   "source": [
    "import functools\n",
    "import numpy as np\n",
    "import tensorflow as tf\n",
    "from tensorflow import keras\n",
    "import pandas as pd"
   ]
  },
  {
   "cell_type": "code",
   "execution_count": 2,
   "metadata": {
    "ExecuteTime": {
     "end_time": "2020-05-25T01:23:43.584942Z",
     "start_time": "2020-05-25T01:23:43.141453Z"
    },
    "scrolled": false
   },
   "outputs": [
    {
     "name": "stdout",
     "output_type": "stream",
     "text": [
      "(1799, 720, 1) (1799, 6, 1)\n"
     ]
    }
   ],
   "source": [
    "df=pd.read_csv('dataset.csv',header=None, delimiter=\" \")\n",
    "df = df.replace([np.inf, -np.inf, np.nan], 10.0) # todo\n",
    "data = np.float32(df.values)\n",
    "data_reshaped = data.reshape((data.shape[0], data.shape[1], 1))\n",
    "data_x = data_reshaped[:,6:]\n",
    "data_y = data_reshaped[:,0:6]\n",
    "print(data_x.shape, data_y.shape)"
   ]
  },
  {
   "cell_type": "code",
   "execution_count": 3,
   "metadata": {
    "ExecuteTime": {
     "end_time": "2020-05-25T01:23:43.594674Z",
     "start_time": "2020-05-25T01:23:43.588352Z"
    }
   },
   "outputs": [
    {
     "data": {
      "text/plain": [
       "False"
      ]
     },
     "execution_count": 3,
     "metadata": {},
     "output_type": "execute_result"
    }
   ],
   "source": [
    "np.any(np.isinf(data_x))"
   ]
  },
  {
   "cell_type": "code",
   "execution_count": 4,
   "metadata": {
    "ExecuteTime": {
     "end_time": "2020-05-25T01:23:43.752553Z",
     "start_time": "2020-05-25T01:23:43.598836Z"
    }
   },
   "outputs": [
    {
     "name": "stdout",
     "output_type": "stream",
     "text": [
      "Model: \"sequential\"\n",
      "_________________________________________________________________\n",
      " Layer (type)                Output Shape              Param #   \n",
      "=================================================================\n",
      " conv1d (Conv1D)             (None, 173, 32)           1056      \n",
      "                                                                 \n",
      " conv1d_1 (Conv1D)           (None, 40, 16)            8208      \n",
      "                                                                 \n",
      " flatten (Flatten)           (None, 640)               0         \n",
      "                                                                 \n",
      " dense (Dense)               (None, 6)                 3846      \n",
      "                                                                 \n",
      "=================================================================\n",
      "Total params: 13110 (51.21 KB)\n",
      "Trainable params: 13110 (51.21 KB)\n",
      "Non-trainable params: 0 (0.00 Byte)\n",
      "_________________________________________________________________\n"
     ]
    },
    {
     "name": "stderr",
     "output_type": "stream",
     "text": [
      "2024-03-15 00:52:42.764834: I tensorflow/compiler/xla/stream_executor/cuda/cuda_gpu_executor.cc:995] successful NUMA node read from SysFS had negative value (-1), but there must be at least one NUMA node, so returning NUMA node zero. See more at https://github.com/torvalds/linux/blob/v6.0/Documentation/ABI/testing/sysfs-bus-pci#L344-L355\n",
      "2024-03-15 00:52:42.795632: W tensorflow/core/common_runtime/gpu/gpu_device.cc:1960] Cannot dlopen some GPU libraries. Please make sure the missing libraries mentioned above are installed properly if you would like to use GPU. Follow the guide at https://www.tensorflow.org/install/gpu for how to download and setup the required libraries for your platform.\n",
      "Skipping registering GPU devices...\n"
     ]
    }
   ],
   "source": [
    "model = keras.Sequential([\n",
    "    keras.layers.Input(shape=(data_x.shape[1], 1)),\n",
    "    keras.layers.Conv1D(filters=32, kernel_size=32, strides=4, activation='relu'),\n",
    "    keras.layers.Conv1D(filters=16, kernel_size=16, strides=4,activation='relu'),\n",
    "    keras.layers.Flatten(),\n",
    "    keras.layers.Dense(6)\n",
    "])\n",
    "model.compile(optimizer='adam',\n",
    "              loss='mean_squared_error')\n",
    "model.summary()"
   ]
  },
  {
   "cell_type": "code",
   "execution_count": 5,
   "metadata": {
    "ExecuteTime": {
     "end_time": "2020-05-25T01:23:43.768288Z",
     "start_time": "2020-05-25T01:23:43.754298Z"
    }
   },
   "outputs": [
    {
     "data": {
      "text/plain": [
       "<tf.Tensor: shape=(1, 6), dtype=float32, numpy=\n",
       "array([[ 0.07382756, -0.05615006,  0.14147751, -0.17402029, -0.07691371,\n",
       "        -0.1608795 ]], dtype=float32)>"
      ]
     },
     "execution_count": 5,
     "metadata": {},
     "output_type": "execute_result"
    }
   ],
   "source": [
    "model(data_x[0].reshape(1,data_x[0].shape[0], data_x[0].shape[1]))"
   ]
  },
  {
   "cell_type": "code",
   "execution_count": 6,
   "metadata": {
    "ExecuteTime": {
     "end_time": "2020-05-25T01:23:50.957229Z",
     "start_time": "2020-05-25T01:23:43.769841Z"
    }
   },
   "outputs": [
    {
     "name": "stdout",
     "output_type": "stream",
     "text": [
      "Epoch 1/20\n",
      "57/57 [==============================] - 1s 4ms/step - loss: 0.0404\n",
      "Epoch 2/20\n",
      "57/57 [==============================] - 0s 4ms/step - loss: 0.0200\n",
      "Epoch 3/20\n",
      "57/57 [==============================] - 0s 3ms/step - loss: 0.0148\n",
      "Epoch 4/20\n",
      "57/57 [==============================] - 0s 4ms/step - loss: 0.0127\n",
      "Epoch 5/20\n",
      "57/57 [==============================] - 0s 4ms/step - loss: 0.0120\n",
      "Epoch 6/20\n",
      "57/57 [==============================] - 0s 4ms/step - loss: 0.0125\n",
      "Epoch 7/20\n",
      "57/57 [==============================] - 0s 4ms/step - loss: 0.0107\n",
      "Epoch 8/20\n",
      "57/57 [==============================] - 0s 4ms/step - loss: 0.0102\n",
      "Epoch 9/20\n",
      "57/57 [==============================] - 0s 3ms/step - loss: 0.0099\n",
      "Epoch 10/20\n",
      "57/57 [==============================] - 0s 4ms/step - loss: 0.0091\n",
      "Epoch 11/20\n",
      "57/57 [==============================] - 0s 4ms/step - loss: 0.0089\n",
      "Epoch 12/20\n",
      "57/57 [==============================] - 0s 3ms/step - loss: 0.0086\n",
      "Epoch 13/20\n",
      "57/57 [==============================] - 0s 3ms/step - loss: 0.0084\n",
      "Epoch 14/20\n",
      "57/57 [==============================] - 0s 4ms/step - loss: 0.0084\n",
      "Epoch 15/20\n",
      "57/57 [==============================] - 0s 4ms/step - loss: 0.0082\n",
      "Epoch 16/20\n",
      "57/57 [==============================] - 0s 4ms/step - loss: 0.0079\n",
      "Epoch 17/20\n",
      "57/57 [==============================] - 0s 3ms/step - loss: 0.0076\n",
      "Epoch 18/20\n",
      "57/57 [==============================] - 0s 4ms/step - loss: 0.0074\n",
      "Epoch 19/20\n",
      "57/57 [==============================] - 0s 4ms/step - loss: 0.0074\n",
      "Epoch 20/20\n",
      "57/57 [==============================] - 0s 4ms/step - loss: 0.0071\n"
     ]
    },
    {
     "data": {
      "text/plain": [
       "<keras.src.callbacks.History at 0x7fbfa8047be0>"
      ]
     },
     "execution_count": 6,
     "metadata": {},
     "output_type": "execute_result"
    }
   ],
   "source": [
    "model.fit(data_x, data_y, epochs=20)"
   ]
  },
  {
   "cell_type": "code",
   "execution_count": 7,
   "metadata": {
    "ExecuteTime": {
     "end_time": "2020-05-25T01:23:51.576540Z",
     "start_time": "2020-05-25T01:23:50.959688Z"
    }
   },
   "outputs": [
    {
     "name": "stdout",
     "output_type": "stream",
     "text": [
      "INFO:tensorflow:Assets written to: saved_model/my_model/assets\n"
     ]
    },
    {
     "name": "stderr",
     "output_type": "stream",
     "text": [
      "INFO:tensorflow:Assets written to: saved_model/my_model/assets\n"
     ]
    }
   ],
   "source": [
    "model.save('saved_model/my_model') "
   ]
  },
  {
   "cell_type": "code",
   "execution_count": null,
   "metadata": {},
   "outputs": [],
   "source": []
  }
 ],
 "metadata": {
  "kernelspec": {
   "display_name": "Python 3",
   "language": "python",
   "name": "python3"
  },
  "language_info": {
   "codemirror_mode": {
    "name": "ipython",
    "version": 3
   },
   "file_extension": ".py",
   "mimetype": "text/x-python",
   "name": "python",
   "nbconvert_exporter": "python",
   "pygments_lexer": "ipython3",
   "version": "3.8.10"
  }
 },
 "nbformat": 4,
 "nbformat_minor": 4
}
